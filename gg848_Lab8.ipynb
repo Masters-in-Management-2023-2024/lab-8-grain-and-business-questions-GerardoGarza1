{
  "nbformat": 4,
  "nbformat_minor": 0,
  "metadata": {
    "colab": {
      "provenance": []
    },
    "kernelspec": {
      "name": "python3",
      "display_name": "Python 3"
    },
    "language_info": {
      "name": "python"
    }
  },
  "cells": [
    {
      "cell_type": "code",
      "execution_count": 1,
      "metadata": {
        "colab": {
          "base_uri": "https://localhost:8080/"
        },
        "id": "DYEfGa-dl0ZA",
        "outputId": "9b837fdf-d8c5-4f93-ec85-ada5722b609b"
      },
      "outputs": [
        {
          "output_type": "stream",
          "name": "stdout",
          "text": [
            "Loading diamonds dataset...\n",
            "Dataset loaded successfully!\n"
          ]
        }
      ],
      "source": [
        "#LAB 8 - Gerardo Garza Sada\n",
        "\n",
        "import polars as pl\n",
        "\n",
        "# Load the diamonds dataset\n",
        "print(\"Loading diamonds dataset...\")\n",
        "df = pl.read_csv('https://raw.githubusercontent.com/pycaret/pycaret/master/datasets/diamond.csv')\n",
        "print(\"Dataset loaded successfully!\")"
      ]
    },
    {
      "cell_type": "code",
      "source": [
        "#Question 1\n",
        "\n",
        "#How extensive is our inventory database?\n",
        "\n",
        "print(f\"Total records (rows): {df.height:,}\")\n",
        "print(f\"Total attributes (columns): {df.width}\")\n",
        "print(\"Column names:\", df.columns)"
      ],
      "metadata": {
        "colab": {
          "base_uri": "https://localhost:8080/"
        },
        "id": "N6iEvnI5mT4e",
        "outputId": "46d98f7c-a388-4b95-b1ca-e8f10f965f43"
      },
      "execution_count": 2,
      "outputs": [
        {
          "output_type": "stream",
          "name": "stdout",
          "text": [
            "Total records (rows): 6,000\n",
            "Total attributes (columns): 8\n",
            "Column names: ['Carat Weight', 'Cut', 'Color', 'Clarity', 'Polish', 'Symmetry', 'Report', 'Price']\n"
          ]
        }
      ]
    },
    {
      "cell_type": "code",
      "source": [
        "#Question 2\n",
        "\n",
        "#What information do we track about each diamond?\n",
        "\n",
        "print (\"columns tracked per diamond:\")\n",
        "print (df.head(10))"
      ],
      "metadata": {
        "colab": {
          "base_uri": "https://localhost:8080/"
        },
        "id": "979wIGSKnlmk",
        "outputId": "7b5a235b-5fbd-4f1f-90e8-68e945377f38"
      },
      "execution_count": 3,
      "outputs": [
        {
          "output_type": "stream",
          "name": "stdout",
          "text": [
            "columns tracked per diamond:\n",
            "shape: (10, 8)\n",
            "┌──────────────┬───────────┬───────┬─────────┬────────┬──────────┬────────┬───────┐\n",
            "│ Carat Weight ┆ Cut       ┆ Color ┆ Clarity ┆ Polish ┆ Symmetry ┆ Report ┆ Price │\n",
            "│ ---          ┆ ---       ┆ ---   ┆ ---     ┆ ---    ┆ ---      ┆ ---    ┆ ---   │\n",
            "│ f64          ┆ str       ┆ str   ┆ str     ┆ str    ┆ str      ┆ str    ┆ i64   │\n",
            "╞══════════════╪═══════════╪═══════╪═════════╪════════╪══════════╪════════╪═══════╡\n",
            "│ 1.1          ┆ Ideal     ┆ H     ┆ SI1     ┆ VG     ┆ EX       ┆ GIA    ┆ 5169  │\n",
            "│ 0.83         ┆ Ideal     ┆ H     ┆ VS1     ┆ ID     ┆ ID       ┆ AGSL   ┆ 3470  │\n",
            "│ 0.85         ┆ Ideal     ┆ H     ┆ SI1     ┆ EX     ┆ EX       ┆ GIA    ┆ 3183  │\n",
            "│ 0.91         ┆ Ideal     ┆ E     ┆ SI1     ┆ VG     ┆ VG       ┆ GIA    ┆ 4370  │\n",
            "│ 0.83         ┆ Ideal     ┆ G     ┆ SI1     ┆ EX     ┆ EX       ┆ GIA    ┆ 3171  │\n",
            "│ 1.53         ┆ Ideal     ┆ E     ┆ SI1     ┆ ID     ┆ ID       ┆ AGSL   ┆ 12791 │\n",
            "│ 1.0          ┆ Very Good ┆ D     ┆ SI1     ┆ VG     ┆ G        ┆ GIA    ┆ 5747  │\n",
            "│ 1.5          ┆ Fair      ┆ F     ┆ SI1     ┆ VG     ┆ VG       ┆ GIA    ┆ 10450 │\n",
            "│ 2.11         ┆ Ideal     ┆ H     ┆ SI1     ┆ VG     ┆ VG       ┆ GIA    ┆ 18609 │\n",
            "│ 1.05         ┆ Very Good ┆ E     ┆ VS1     ┆ VG     ┆ G        ┆ GIA    ┆ 7666  │\n",
            "└──────────────┴───────────┴───────┴─────────┴────────┴──────────┴────────┴───────┘\n"
          ]
        }
      ]
    },
    {
      "cell_type": "code",
      "source": [
        "#Question 3\n",
        "\n",
        "#When I look at one line in this database, what am I looking at?\n",
        "\n",
        "#Explanation (answer) = It depends, but for example, lets say we take a look at the first row of the data set, we are looking\n",
        "# at one specific diamond inside all the data. So loking at the firt one, we can see different characteristics, such as:\n",
        "# the cut, in this case is an ideal cut, we can also se the color, which is H. The clarity is SI1, the polish of the stones is\n",
        "# VG, the symetry is EX, report would be GIA, and the cost of that diamond is $5,169."
      ],
      "metadata": {
        "id": "mLpusMh8oSqF"
      },
      "execution_count": null,
      "outputs": []
    },
    {
      "cell_type": "code",
      "source": [
        "#Question 4\n",
        "\n",
        "#We're considering expanding our storage facilities. How many total carats do we have in inventory? I need to know if our vaults can handle the weight.\n",
        "\n",
        "total_carats = df [\"Carat Weight\"].sum()\n",
        "print (f\"total carats in the inventory: {total_carats:,.2f}\")"
      ],
      "metadata": {
        "colab": {
          "base_uri": "https://localhost:8080/"
        },
        "id": "Ue7M9H6-pe-C",
        "outputId": "119b7182-fcc8-4c65-cdc4-b68249ed76f3"
      },
      "execution_count": 5,
      "outputs": [
        {
          "output_type": "stream",
          "name": "stdout",
          "text": [
            "total carats in the inventory: 8,007.12\n"
          ]
        }
      ]
    },
    {
      "cell_type": "code",
      "source": [
        "#Question 5\n",
        "\n",
        "#Our new marketing campaign claims we have 'the widest variety of cuts in the industry.' Can you verify this?\n",
        "\n",
        "unique_cuts = df [\"Cut\"].unique()\n",
        "cut_counts = df [\"Cut\"].value_counts()\n",
        "print (\"Unique Cuts:\")\n",
        "print (unique_cuts)\n",
        "print (\"\\nNumber Cut Counts:\")\n",
        "print (cut_counts)"
      ],
      "metadata": {
        "colab": {
          "base_uri": "https://localhost:8080/"
        },
        "id": "FSvYiM9arAoP",
        "outputId": "75284261-0550-425f-e17e-859bbd5722de"
      },
      "execution_count": 7,
      "outputs": [
        {
          "output_type": "stream",
          "name": "stdout",
          "text": [
            "Unique Cuts:\n",
            "shape: (5,)\n",
            "Series: 'Cut' [str]\n",
            "[\n",
            "\t\"Very Good\"\n",
            "\t\"Ideal\"\n",
            "\t\"Fair\"\n",
            "\t\"Good\"\n",
            "\t\"Signature-Ideal\"\n",
            "]\n",
            "\n",
            "Number Cut Counts:\n",
            "shape: (5, 2)\n",
            "┌─────────────────┬───────┐\n",
            "│ Cut             ┆ count │\n",
            "│ ---             ┆ ---   │\n",
            "│ str             ┆ u32   │\n",
            "╞═════════════════╪═══════╡\n",
            "│ Signature-Ideal ┆ 253   │\n",
            "│ Fair            ┆ 129   │\n",
            "│ Good            ┆ 708   │\n",
            "│ Ideal           ┆ 2482  │\n",
            "│ Very Good       ┆ 2428  │\n",
            "└─────────────────┴───────┘\n"
          ]
        }
      ]
    },
    {
      "cell_type": "code",
      "source": [
        "#Question 6\n",
        "\n",
        "#I'm meeting with our insurance company. They need to know our price exposure - what's our most and least valuable diamond?\n",
        "\n",
        "max_price = df.select(pl.col(\"Price\").max()).item()\n",
        "print(f\"Highest price: ${max_price:,.2f}\")\n",
        "\n",
        "min_price = df.select(pl.col(\"Price\").min()).item()\n",
        "print(f\"Lowest price: ${min_price:,.2f}\")"
      ],
      "metadata": {
        "colab": {
          "base_uri": "https://localhost:8080/"
        },
        "id": "helcPUUZsPB4",
        "outputId": "18aaa573-dceb-4d58-a53d-4ac00f780586"
      },
      "execution_count": 10,
      "outputs": [
        {
          "output_type": "stream",
          "name": "stdout",
          "text": [
            "Highest price: $101,561.00\n",
            "Lowest price: $2,184.00\n"
          ]
        }
      ]
    },
    {
      "cell_type": "code",
      "source": [
        "#Question 7\n",
        "\n",
        "#Which color grades should we focus on in our premium line? I need typical prices across our color spectrum.\n",
        "\n",
        "color_price = df.group_by(pl.col(\"Color\")).agg(pl.col(\"Price\").mean().alias(\"avg_price\")).sort(\"avg_price\", descending=True)\n",
        "print(\"Average price by color grade (from most to least expensive):\")\n",
        "print(color_price)\n",
        "\n",
        "#My answer = they should focus on the color D diamonds, because those are the most expensive ones."
      ],
      "metadata": {
        "colab": {
          "base_uri": "https://localhost:8080/"
        },
        "id": "s02GV8QkwWTO",
        "outputId": "71de82d4-9924-416a-ce90-193a9165a392"
      },
      "execution_count": 15,
      "outputs": [
        {
          "output_type": "stream",
          "name": "stdout",
          "text": [
            "Average price by color grade (from most to least expensive):\n",
            "shape: (6, 2)\n",
            "┌───────┬──────────────┐\n",
            "│ Color ┆ avg_price    │\n",
            "│ ---   ┆ ---          │\n",
            "│ str   ┆ f64          │\n",
            "╞═══════╪══════════════╡\n",
            "│ D     ┆ 15255.783661 │\n",
            "│ F     ┆ 12712.241856 │\n",
            "│ G     ┆ 12520.050633 │\n",
            "│ E     ┆ 11539.190231 │\n",
            "│ H     ┆ 10487.347544 │\n",
            "│ I     ┆ 8989.636364  │\n",
            "└───────┴──────────────┘\n"
          ]
        }
      ]
    },
    {
      "cell_type": "code",
      "source": [
        "#Question 8\n",
        "\n",
        "#We're thinking of specializing in certain clarity grades. For our investor deck, I need a complete breakdown showing: how many diamonds we have in each clarity grade, their typical price, and the total carats we're holding for each grade.\"\n",
        "\n",
        "unique_count = df.select(pl.col(\"Clarity\").n_unique()).item()\n",
        "print(f\"Number of unique clarity grades: {unique_count}\")\n",
        "\n",
        "unique_values = df.select(pl.col(\"Clarity\").unique().sort()).to_series().to_list()\n",
        "print(f\"The clarity grades are: {unique_values}\")\n",
        "\n",
        "clarity_analysis = (\n",
        "    df.group_by(\"Clarity\")\n",
        "      .agg(\n",
        "          pl.len().alias(\"num_diamonds\"),\n",
        "          pl.col(\"Price\").mean().alias(\"avg_price\"),\n",
        "          pl.col(\"Carat Weight\").sum().alias(\"total_carats\")\n",
        "      )\n",
        "      .sort(\"avg_price\", descending=True)\n",
        ")\n",
        "print(\"Clarity diamonds analysis:\")\n",
        "print(clarity_analysis)"
      ],
      "metadata": {
        "colab": {
          "base_uri": "https://localhost:8080/"
        },
        "id": "N5i4xQi3ym3z",
        "outputId": "632b3c3e-a47d-4935-9fd3-a8f734e071b7"
      },
      "execution_count": 23,
      "outputs": [
        {
          "output_type": "stream",
          "name": "stdout",
          "text": [
            "Number of unique clarity grades: 7\n",
            "The clarity grades are: ['FL', 'IF', 'SI1', 'VS1', 'VS2', 'VVS1', 'VVS2']\n",
            "Clarity diamonds analysis:\n",
            "shape: (7, 4)\n",
            "┌─────────┬──────────────┬──────────────┬──────────────┐\n",
            "│ Clarity ┆ num_diamonds ┆ avg_price    ┆ total_carats │\n",
            "│ ---     ┆ ---          ┆ ---          ┆ ---          │\n",
            "│ str     ┆ u32          ┆ f64          ┆ f64          │\n",
            "╞═════════╪══════════════╪══════════════╪══════════════╡\n",
            "│ FL      ┆ 4            ┆ 63776.0      ┆ 7.87         │\n",
            "│ IF      ┆ 219          ┆ 22105.844749 ┆ 316.0        │\n",
            "│ VVS1    ┆ 285          ┆ 16845.680702 ┆ 389.43       │\n",
            "│ VVS2    ┆ 666          ┆ 14142.177177 ┆ 876.58       │\n",
            "│ VS1     ┆ 1192         ┆ 13694.113255 ┆ 1682.74      │\n",
            "│ VS2     ┆ 1575         ┆ 11809.053333 ┆ 2170.81      │\n",
            "│ SI1     ┆ 2059         ┆ 8018.864012  ┆ 2563.69      │\n",
            "└─────────┴──────────────┴──────────────┴──────────────┘\n"
          ]
        }
      ]
    },
    {
      "cell_type": "code",
      "source": [
        "#Question 9\n",
        "\n",
        "#My luxury competitor claims they have the best prices for every cut-color combination. Show me our pricing structure across these combinations - I want to see where we're competitive\n",
        "\n",
        "result = df.group_by([\"Cut\", \"Color\"]).agg(\n",
        "    pl.col(\"Price\").mean().alias(\"avg_price\"),\n",
        "    pl.len().alias(\"count\")\n",
        ").sort([\"Cut\", \"Color\"])\n",
        "\n",
        "print(\"NEW GRAIN: one row per cut-color combination\")\n",
        "print(f\"Number of unique combinations: {len(result)}\")\n",
        "result.head(10)\n"
      ],
      "metadata": {
        "colab": {
          "base_uri": "https://localhost:8080/",
          "height": 447
        },
        "id": "12bQnwjh0xq2",
        "outputId": "7cd41b57-7729-4881-9ceb-56fff20d1004"
      },
      "execution_count": 28,
      "outputs": [
        {
          "output_type": "stream",
          "name": "stdout",
          "text": [
            "NEW GRAIN: one row per cut-color combination\n",
            "Number of unique combinations: 30\n"
          ]
        },
        {
          "output_type": "execute_result",
          "data": {
            "text/plain": [
              "shape: (10, 4)\n",
              "┌──────┬───────┬──────────────┬───────┐\n",
              "│ Cut  ┆ Color ┆ avg_price    ┆ count │\n",
              "│ ---  ┆ ---   ┆ ---          ┆ ---   │\n",
              "│ str  ┆ str   ┆ f64          ┆ u32   │\n",
              "╞══════╪═══════╪══════════════╪═══════╡\n",
              "│ Fair ┆ D     ┆ 6058.25      ┆ 12    │\n",
              "│ Fair ┆ E     ┆ 5370.625     ┆ 32    │\n",
              "│ Fair ┆ F     ┆ 6063.625     ┆ 24    │\n",
              "│ Fair ┆ G     ┆ 7345.52381   ┆ 21    │\n",
              "│ Fair ┆ H     ┆ 5908.5       ┆ 24    │\n",
              "│ Fair ┆ I     ┆ 4573.1875    ┆ 16    │\n",
              "│ Good ┆ D     ┆ 10058.716216 ┆ 74    │\n",
              "│ Good ┆ E     ┆ 8969.545455  ┆ 110   │\n",
              "│ Good ┆ F     ┆ 9274.007519  ┆ 133   │\n",
              "│ Good ┆ G     ┆ 9988.614865  ┆ 148   │\n",
              "└──────┴───────┴──────────────┴───────┘"
            ],
            "text/html": [
              "<div><style>\n",
              ".dataframe > thead > tr,\n",
              ".dataframe > tbody > tr {\n",
              "  text-align: right;\n",
              "  white-space: pre-wrap;\n",
              "}\n",
              "</style>\n",
              "<small>shape: (10, 4)</small><table border=\"1\" class=\"dataframe\"><thead><tr><th>Cut</th><th>Color</th><th>avg_price</th><th>count</th></tr><tr><td>str</td><td>str</td><td>f64</td><td>u32</td></tr></thead><tbody><tr><td>&quot;Fair&quot;</td><td>&quot;D&quot;</td><td>6058.25</td><td>12</td></tr><tr><td>&quot;Fair&quot;</td><td>&quot;E&quot;</td><td>5370.625</td><td>32</td></tr><tr><td>&quot;Fair&quot;</td><td>&quot;F&quot;</td><td>6063.625</td><td>24</td></tr><tr><td>&quot;Fair&quot;</td><td>&quot;G&quot;</td><td>7345.52381</td><td>21</td></tr><tr><td>&quot;Fair&quot;</td><td>&quot;H&quot;</td><td>5908.5</td><td>24</td></tr><tr><td>&quot;Fair&quot;</td><td>&quot;I&quot;</td><td>4573.1875</td><td>16</td></tr><tr><td>&quot;Good&quot;</td><td>&quot;D&quot;</td><td>10058.716216</td><td>74</td></tr><tr><td>&quot;Good&quot;</td><td>&quot;E&quot;</td><td>8969.545455</td><td>110</td></tr><tr><td>&quot;Good&quot;</td><td>&quot;F&quot;</td><td>9274.007519</td><td>133</td></tr><tr><td>&quot;Good&quot;</td><td>&quot;G&quot;</td><td>9988.614865</td><td>148</td></tr></tbody></table></div>"
            ]
          },
          "metadata": {},
          "execution_count": 28
        }
      ]
    },
    {
      "cell_type": "code",
      "source": [
        "#Question 10\n",
        "\n",
        "#URGENT - \"Our biggest client is interested in purchasing entire inventory segments. They asked: 'Which color-cut combinations represent your highest total inventory value?' Show me the top 5 most valuable inventory segments by total worth, and include how many diamonds are in each segment.\"\n",
        "\n",
        "\n",
        "top_valuable_segments = (\n",
        "    df.group_by([\"Cut\", \"Color\"])\n",
        "      .agg(\n",
        "          pl.col(\"Price\").sum().alias(\"total_value\"),\n",
        "          pl.len().alias(\"num_diamonds\")\n",
        "      )\n",
        "      .sort(\"total_value\", descending=True)\n",
        "      .head(5)\n",
        ")\n",
        "\n",
        "print(\"Top 5 most expensive color/cut diamonds in the inventory segments:\")\n",
        "print(top_valuable_segments)\n"
      ],
      "metadata": {
        "colab": {
          "base_uri": "https://localhost:8080/"
        },
        "id": "gWXzU0ux2pcy",
        "outputId": "d2899f9b-4613-455c-8e07-d4956bf53bd4"
      },
      "execution_count": 38,
      "outputs": [
        {
          "output_type": "stream",
          "name": "stdout",
          "text": [
            "Top 5 most expensive color/cut diamonds in the inventory segments:\n",
            "shape: (5, 4)\n",
            "┌───────────┬───────┬─────────────┬──────────────┐\n",
            "│ Cut       ┆ Color ┆ total_value ┆ num_diamonds │\n",
            "│ ---       ┆ ---   ┆ ---         ┆ ---          │\n",
            "│ str       ┆ str   ┆ i64         ┆ u32          │\n",
            "╞═══════════╪═══════╪═════════════╪══════════════╡\n",
            "│ Ideal     ┆ G     ┆ 9363514     ┆ 690          │\n",
            "│ Very Good ┆ G     ┆ 7140620     ┆ 578          │\n",
            "│ Very Good ┆ F     ┆ 5648327     ┆ 455          │\n",
            "│ Ideal     ┆ F     ┆ 5346782     ┆ 363          │\n",
            "│ Ideal     ┆ H     ┆ 5279687     ┆ 458          │\n",
            "└───────────┴───────┴─────────────┴──────────────┘\n"
          ]
        }
      ]
    }
  ]
}